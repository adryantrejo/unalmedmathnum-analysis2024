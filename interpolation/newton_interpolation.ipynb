{
 "cells": [
  {
   "cell_type": "code",
   "execution_count": 10,
   "id": "172784cd-f8a0-4091-917a-cd051fa1baa3",
   "metadata": {},
   "outputs": [],
   "source": [
    "def newton_interpolation(x, points):\n",
    "    \"\"\"\n",
    "    Perform Newton's interpolation to compute the value of the interpolating polynomial at a given point.\n",
    "\n",
    "    Parameters:\n",
    "    - x: The point at which to evaluate the interpolating polynomial.\n",
    "    - points: A list of tuples [(x0, y0), (x1, y1), ..., (xn, yn)] representing the interpolation points.\n",
    "\n",
    "    Returns:\n",
    "    - polynomial_value: The value of the interpolating polynomial at x.\n",
    "    \"\"\"\n",
    "\n",
    "    k = len(points) # Number of interpolation points\n",
    "\n",
    "    # Initialize a 2D list for divided differences, filled with zeros\n",
    "    div_diff = [[0 for i in range(k)] for j in range(k)]\n",
    "\n",
    "    # Compute the divided differences table\n",
    "    for i in range(k-1, -1, -1):\n",
    "        for j in range(i, k):\n",
    "            if i == j: # Base case: diagonal elements are the y-values of the points\n",
    "                div_diff[i][j] = points[i][1]\n",
    "            else: # Recursive formula for divided differences\n",
    "                div_diff[i][j] = (div_diff[i+1][j] - div_diff[i][j-1]) / (points[j][0] - points[i][0])\n",
    "\n",
    "    # Evaluate the Newton's interpolating polynomial at x\n",
    "    polynomial_value = 0\n",
    "    for i in range(k):\n",
    "        # Start with the i-th coefficient from the divided differences table\n",
    "        polynomial_term = div_diff[0][i]\n",
    "        # Multiply by the terms (x - x0), (x - x1), ..., up to (x - x(i-1))\n",
    "        for j in range(i):\n",
    "            polynomial_term *= x - points[j][0]\n",
    "        polynomial_value += polynomial_term # Add the term to the polynomial\n",
    "\n",
    "    return polynomial_value # Return the result"
   ]
  },
  {
   "cell_type": "code",
   "execution_count": 11,
   "id": "69504bc0-e8ff-4b82-9857-a292b183834d",
   "metadata": {},
   "outputs": [
    {
     "name": "stdout",
     "output_type": "stream",
     "text": [
      "0.5118199942386833\n"
     ]
    }
   ],
   "source": [
    "# Example usage\n",
    "x = 1.5\n",
    "points = [(1.0, 0.7651977), (1.3, 0.6200860), (1.6, 0.4554022), (1.9, 0.2818186), (2.2, 0.1103623)]\n",
    "print(newton_interpolation(x, points))"
   ]
  },
  {
   "cell_type": "code",
   "execution_count": null,
   "id": "54677593-a804-4d5c-b341-a7218b2f5a50",
   "metadata": {},
   "outputs": [],
   "source": []
  }
 ],
 "metadata": {
  "kernelspec": {
   "display_name": "Python 3 (ipykernel)",
   "language": "python",
   "name": "python3"
  },
  "language_info": {
   "codemirror_mode": {
    "name": "ipython",
    "version": 3
   },
   "file_extension": ".py",
   "mimetype": "text/x-python",
   "name": "python",
   "nbconvert_exporter": "python",
   "pygments_lexer": "ipython3",
   "version": "3.10.1"
  }
 },
 "nbformat": 4,
 "nbformat_minor": 5
}
