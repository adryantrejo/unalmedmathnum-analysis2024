{
 "cells": [
  {
   "cell_type": "code",
   "execution_count": 7,
   "id": "60423bcf-c0b8-4240-95f8-7099ddd5e815",
   "metadata": {},
   "outputs": [],
   "source": [
    "def lagrange_interpolation(x, points):\n",
    "    \"\"\"\n",
    "    Perform Lagrange's interpolation to compute the value of the interpolating polynomial at a given point.\n",
    "\n",
    "    Parameters:\n",
    "    - x: The point at which to evaluate the interpolating polynomial.\n",
    "    - points: A list of tuples [(x0, y0), (x1, y1), ..., (xn, yn)] representing the interpolation points.\n",
    "\n",
    "    Returns:\n",
    "    - polynomial_value: The value of the interpolating polynomial at x.\n",
    "    \"\"\"\n",
    "    \n",
    "    # Get the number of data points\n",
    "    k = len(points)\n",
    "\n",
    "    # Initialize the value of the interpolation polynomial at x\n",
    "    polynomial_value = 0\n",
    "\n",
    "    # Loop through each point to calculate its contribution to the polynomial\n",
    "    for i in range(k):\n",
    "        polynomial_term = 1\n",
    "        # Calculate the product of fractions forming the polynomial term\n",
    "        for j in range(k):\n",
    "            if i != j:\n",
    "                polynomial_term *= (x - points[j][0]) / (points[i][0] - points[j][0])\n",
    "        # Multiply the polynomial term by the corresponding y-value\n",
    "        polynomial_value += points[i][1] * polynomial_term # Add the term to the polynomial\n",
    "        \n",
    "    return polynomial_value # Return the result\n",
    "    "
   ]
  },
  {
   "cell_type": "code",
   "execution_count": 8,
   "id": "e47e2fb9-a36b-4344-929a-bedbf13e16f1",
   "metadata": {},
   "outputs": [
    {
     "name": "stdout",
     "output_type": "stream",
     "text": [
      "0.5118199942386832\n"
     ]
    }
   ],
   "source": [
    "# Example usage\n",
    "x = 1.5\n",
    "points = [(1.0, 0.7651977), (1.3, 0.6200860), (1.6, 0.4554022), (1.9, 0.2818186), (2.2, 0.1103623)]\n",
    "print(lagrange_interpolation(x, points))"
   ]
  },
  {
   "cell_type": "code",
   "execution_count": null,
   "id": "c7520d42-bca7-42b6-88be-431d9a068de0",
   "metadata": {},
   "outputs": [],
   "source": []
  }
 ],
 "metadata": {
  "kernelspec": {
   "display_name": "Python 3 (ipykernel)",
   "language": "python",
   "name": "python3"
  },
  "language_info": {
   "codemirror_mode": {
    "name": "ipython",
    "version": 3
   },
   "file_extension": ".py",
   "mimetype": "text/x-python",
   "name": "python",
   "nbconvert_exporter": "python",
   "pygments_lexer": "ipython3",
   "version": "3.10.1"
  }
 },
 "nbformat": 4,
 "nbformat_minor": 5
}
